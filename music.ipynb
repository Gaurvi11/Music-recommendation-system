{
 "cells": [
  {
   "cell_type": "code",
   "execution_count": 1,
   "id": "94f437a3-1f44-4cba-a9e3-f326dc8a3954",
   "metadata": {},
   "outputs": [],
   "source": [
    "import pandas as pd\n",
    "import numpy as np"
   ]
  },
  {
   "cell_type": "code",
   "execution_count": 2,
   "id": "6ec2f42f-6820-429f-88a4-db003b43d7f7",
   "metadata": {},
   "outputs": [],
   "source": [
    "df = pd.read_csv(\"spotify.csv\")"
   ]
  },
  {
   "cell_type": "code",
   "execution_count": 3,
   "id": "79334ac4-7e1d-4750-bcfd-ed8d3b4af56d",
   "metadata": {},
   "outputs": [
    {
     "data": {
      "text/html": [
       "<div>\n",
       "<style scoped>\n",
       "    .dataframe tbody tr th:only-of-type {\n",
       "        vertical-align: middle;\n",
       "    }\n",
       "\n",
       "    .dataframe tbody tr th {\n",
       "        vertical-align: top;\n",
       "    }\n",
       "\n",
       "    .dataframe thead th {\n",
       "        text-align: right;\n",
       "    }\n",
       "</style>\n",
       "<table border=\"1\" class=\"dataframe\">\n",
       "  <thead>\n",
       "    <tr style=\"text-align: right;\">\n",
       "      <th></th>\n",
       "      <th>artist</th>\n",
       "      <th>song</th>\n",
       "      <th>link</th>\n",
       "      <th>text</th>\n",
       "    </tr>\n",
       "  </thead>\n",
       "  <tbody>\n",
       "    <tr>\n",
       "      <th>0</th>\n",
       "      <td>ABBA</td>\n",
       "      <td>Ahe's My Kind Of Girl</td>\n",
       "      <td>/a/abba/ahes+my+kind+of+girl_20598417.html</td>\n",
       "      <td>Look at her face, it's a wonderful face  \\r\\nA...</td>\n",
       "    </tr>\n",
       "    <tr>\n",
       "      <th>1</th>\n",
       "      <td>ABBA</td>\n",
       "      <td>Andante, Andante</td>\n",
       "      <td>/a/abba/andante+andante_20002708.html</td>\n",
       "      <td>Take it easy with me, please  \\r\\nTouch me gen...</td>\n",
       "    </tr>\n",
       "    <tr>\n",
       "      <th>2</th>\n",
       "      <td>ABBA</td>\n",
       "      <td>As Good As New</td>\n",
       "      <td>/a/abba/as+good+as+new_20003033.html</td>\n",
       "      <td>I'll never know why I had to go  \\r\\nWhy I had...</td>\n",
       "    </tr>\n",
       "    <tr>\n",
       "      <th>3</th>\n",
       "      <td>ABBA</td>\n",
       "      <td>Bang</td>\n",
       "      <td>/a/abba/bang_20598415.html</td>\n",
       "      <td>Making somebody happy is a question of give an...</td>\n",
       "    </tr>\n",
       "    <tr>\n",
       "      <th>4</th>\n",
       "      <td>ABBA</td>\n",
       "      <td>Bang-A-Boomerang</td>\n",
       "      <td>/a/abba/bang+a+boomerang_20002668.html</td>\n",
       "      <td>Making somebody happy is a question of give an...</td>\n",
       "    </tr>\n",
       "  </tbody>\n",
       "</table>\n",
       "</div>"
      ],
      "text/plain": [
       "  artist                   song                                        link  \\\n",
       "0   ABBA  Ahe's My Kind Of Girl  /a/abba/ahes+my+kind+of+girl_20598417.html   \n",
       "1   ABBA       Andante, Andante       /a/abba/andante+andante_20002708.html   \n",
       "2   ABBA         As Good As New        /a/abba/as+good+as+new_20003033.html   \n",
       "3   ABBA                   Bang                  /a/abba/bang_20598415.html   \n",
       "4   ABBA       Bang-A-Boomerang      /a/abba/bang+a+boomerang_20002668.html   \n",
       "\n",
       "                                                text  \n",
       "0  Look at her face, it's a wonderful face  \\r\\nA...  \n",
       "1  Take it easy with me, please  \\r\\nTouch me gen...  \n",
       "2  I'll never know why I had to go  \\r\\nWhy I had...  \n",
       "3  Making somebody happy is a question of give an...  \n",
       "4  Making somebody happy is a question of give an...  "
      ]
     },
     "execution_count": 3,
     "metadata": {},
     "output_type": "execute_result"
    }
   ],
   "source": [
    "df.head(5)"
   ]
  },
  {
   "cell_type": "code",
   "execution_count": 4,
   "id": "3ac08ba2-1d82-4d1e-b2b5-a62836573339",
   "metadata": {},
   "outputs": [
    {
     "data": {
      "text/html": [
       "<div>\n",
       "<style scoped>\n",
       "    .dataframe tbody tr th:only-of-type {\n",
       "        vertical-align: middle;\n",
       "    }\n",
       "\n",
       "    .dataframe tbody tr th {\n",
       "        vertical-align: top;\n",
       "    }\n",
       "\n",
       "    .dataframe thead th {\n",
       "        text-align: right;\n",
       "    }\n",
       "</style>\n",
       "<table border=\"1\" class=\"dataframe\">\n",
       "  <thead>\n",
       "    <tr style=\"text-align: right;\">\n",
       "      <th></th>\n",
       "      <th>artist</th>\n",
       "      <th>song</th>\n",
       "      <th>link</th>\n",
       "      <th>text</th>\n",
       "    </tr>\n",
       "  </thead>\n",
       "  <tbody>\n",
       "    <tr>\n",
       "      <th>57645</th>\n",
       "      <td>Ziggy Marley</td>\n",
       "      <td>Good Old Days</td>\n",
       "      <td>/z/ziggy+marley/good+old+days_10198588.html</td>\n",
       "      <td>Irie days come on play  \\r\\nLet the angels fly...</td>\n",
       "    </tr>\n",
       "    <tr>\n",
       "      <th>57646</th>\n",
       "      <td>Ziggy Marley</td>\n",
       "      <td>Hand To Mouth</td>\n",
       "      <td>/z/ziggy+marley/hand+to+mouth_20531167.html</td>\n",
       "      <td>Power to the workers  \\r\\nMore power  \\r\\nPowe...</td>\n",
       "    </tr>\n",
       "    <tr>\n",
       "      <th>57647</th>\n",
       "      <td>Zwan</td>\n",
       "      <td>Come With Me</td>\n",
       "      <td>/z/zwan/come+with+me_20148981.html</td>\n",
       "      <td>all you need  \\r\\nis something i'll believe  \\...</td>\n",
       "    </tr>\n",
       "    <tr>\n",
       "      <th>57648</th>\n",
       "      <td>Zwan</td>\n",
       "      <td>Desire</td>\n",
       "      <td>/z/zwan/desire_20148986.html</td>\n",
       "      <td>northern star  \\r\\nam i frightened  \\r\\nwhere ...</td>\n",
       "    </tr>\n",
       "    <tr>\n",
       "      <th>57649</th>\n",
       "      <td>Zwan</td>\n",
       "      <td>Heartsong</td>\n",
       "      <td>/z/zwan/heartsong_20148991.html</td>\n",
       "      <td>come in  \\r\\nmake yourself at home  \\r\\ni'm a ...</td>\n",
       "    </tr>\n",
       "  </tbody>\n",
       "</table>\n",
       "</div>"
      ],
      "text/plain": [
       "             artist           song  \\\n",
       "57645  Ziggy Marley  Good Old Days   \n",
       "57646  Ziggy Marley  Hand To Mouth   \n",
       "57647          Zwan   Come With Me   \n",
       "57648          Zwan         Desire   \n",
       "57649          Zwan      Heartsong   \n",
       "\n",
       "                                              link  \\\n",
       "57645  /z/ziggy+marley/good+old+days_10198588.html   \n",
       "57646  /z/ziggy+marley/hand+to+mouth_20531167.html   \n",
       "57647           /z/zwan/come+with+me_20148981.html   \n",
       "57648                 /z/zwan/desire_20148986.html   \n",
       "57649              /z/zwan/heartsong_20148991.html   \n",
       "\n",
       "                                                    text  \n",
       "57645  Irie days come on play  \\r\\nLet the angels fly...  \n",
       "57646  Power to the workers  \\r\\nMore power  \\r\\nPowe...  \n",
       "57647  all you need  \\r\\nis something i'll believe  \\...  \n",
       "57648  northern star  \\r\\nam i frightened  \\r\\nwhere ...  \n",
       "57649  come in  \\r\\nmake yourself at home  \\r\\ni'm a ...  "
      ]
     },
     "execution_count": 4,
     "metadata": {},
     "output_type": "execute_result"
    }
   ],
   "source": [
    "df.tail(5)"
   ]
  },
  {
   "cell_type": "code",
   "execution_count": 5,
   "id": "8786f6f6-1962-4aa2-a3cb-6c859d84194b",
   "metadata": {},
   "outputs": [
    {
     "data": {
      "text/plain": [
       "(57650, 4)"
      ]
     },
     "execution_count": 5,
     "metadata": {},
     "output_type": "execute_result"
    }
   ],
   "source": [
    "df.shape"
   ]
  },
  {
   "cell_type": "code",
   "execution_count": 6,
   "id": "f8af9392-3f96-40a9-aa1a-0fe467229c1f",
   "metadata": {},
   "outputs": [
    {
     "data": {
      "text/plain": [
       "artist    0\n",
       "song      0\n",
       "link      0\n",
       "text      0\n",
       "dtype: int64"
      ]
     },
     "execution_count": 6,
     "metadata": {},
     "output_type": "execute_result"
    }
   ],
   "source": [
    "df.isnull().sum()"
   ]
  },
  {
   "cell_type": "code",
   "execution_count": 7,
   "id": "a0150e8e-bfdd-490f-ba8c-02999c2bb9a4",
   "metadata": {},
   "outputs": [],
   "source": [
    "df = df.sample(5000).drop('link', axis=1).reset_index(drop=True)"
   ]
  },
  {
   "cell_type": "code",
   "execution_count": 8,
   "id": "2ff12aec-a279-4785-80f7-952eeb2dcefa",
   "metadata": {},
   "outputs": [
    {
     "data": {
      "text/html": [
       "<div>\n",
       "<style scoped>\n",
       "    .dataframe tbody tr th:only-of-type {\n",
       "        vertical-align: middle;\n",
       "    }\n",
       "\n",
       "    .dataframe tbody tr th {\n",
       "        vertical-align: top;\n",
       "    }\n",
       "\n",
       "    .dataframe thead th {\n",
       "        text-align: right;\n",
       "    }\n",
       "</style>\n",
       "<table border=\"1\" class=\"dataframe\">\n",
       "  <thead>\n",
       "    <tr style=\"text-align: right;\">\n",
       "      <th></th>\n",
       "      <th>artist</th>\n",
       "      <th>song</th>\n",
       "      <th>text</th>\n",
       "    </tr>\n",
       "  </thead>\n",
       "  <tbody>\n",
       "    <tr>\n",
       "      <th>0</th>\n",
       "      <td>John Prine</td>\n",
       "      <td>I Saw Mommy Kissing Santa Claus</td>\n",
       "      <td>Christmas toys all over the place  \\r\\nLittle ...</td>\n",
       "    </tr>\n",
       "    <tr>\n",
       "      <th>1</th>\n",
       "      <td>Exo</td>\n",
       "      <td>Run</td>\n",
       "      <td>Eodideun joha uri oneulbam tteonabollae? Tteon...</td>\n",
       "    </tr>\n",
       "    <tr>\n",
       "      <th>2</th>\n",
       "      <td>Vertical Horizon</td>\n",
       "      <td>Candyman</td>\n",
       "      <td>[Chorus]  \\r\\nAnd even though I'm right behind...</td>\n",
       "    </tr>\n",
       "    <tr>\n",
       "      <th>3</th>\n",
       "      <td>Adam Sandler</td>\n",
       "      <td>The Buffoon And The Valedictorian</td>\n",
       "      <td>\"And now the buffoon's date at the drive-in wi...</td>\n",
       "    </tr>\n",
       "    <tr>\n",
       "      <th>4</th>\n",
       "      <td>King Diamond</td>\n",
       "      <td>Nuns Have No Fun</td>\n",
       "      <td>Upon a cross a nun will be hanged, she will be...</td>\n",
       "    </tr>\n",
       "    <tr>\n",
       "      <th>5</th>\n",
       "      <td>The Monkees</td>\n",
       "      <td>It's Got To Be Love</td>\n",
       "      <td>I held you tight, and we fell, life took a bre...</td>\n",
       "    </tr>\n",
       "    <tr>\n",
       "      <th>6</th>\n",
       "      <td>Eric Clapton</td>\n",
       "      <td>Cryin'</td>\n",
       "      <td>[Chorus:]  \\r\\nShe is cryin', she is cryin'.  ...</td>\n",
       "    </tr>\n",
       "    <tr>\n",
       "      <th>7</th>\n",
       "      <td>Yoko Ono</td>\n",
       "      <td>Mrs. Lennon</td>\n",
       "      <td>Mrs. Lennon, o' Mrs. Lennon,  \\r\\nChecking the...</td>\n",
       "    </tr>\n",
       "    <tr>\n",
       "      <th>8</th>\n",
       "      <td>Kylie Minogue</td>\n",
       "      <td>Chasing Ghosts</td>\n",
       "      <td>Like it's suffering  \\r\\n  \\r\\nI have this fee...</td>\n",
       "    </tr>\n",
       "    <tr>\n",
       "      <th>9</th>\n",
       "      <td>Twenty One Pilots</td>\n",
       "      <td>Ode To Sleep</td>\n",
       "      <td>I wake up fine and dandy but then by the time ...</td>\n",
       "    </tr>\n",
       "  </tbody>\n",
       "</table>\n",
       "</div>"
      ],
      "text/plain": [
       "              artist                               song  \\\n",
       "0         John Prine    I Saw Mommy Kissing Santa Claus   \n",
       "1                Exo                                Run   \n",
       "2   Vertical Horizon                           Candyman   \n",
       "3       Adam Sandler  The Buffoon And The Valedictorian   \n",
       "4       King Diamond                   Nuns Have No Fun   \n",
       "5        The Monkees                It's Got To Be Love   \n",
       "6       Eric Clapton                             Cryin'   \n",
       "7           Yoko Ono                        Mrs. Lennon   \n",
       "8      Kylie Minogue                     Chasing Ghosts   \n",
       "9  Twenty One Pilots                       Ode To Sleep   \n",
       "\n",
       "                                                text  \n",
       "0  Christmas toys all over the place  \\r\\nLittle ...  \n",
       "1  Eodideun joha uri oneulbam tteonabollae? Tteon...  \n",
       "2  [Chorus]  \\r\\nAnd even though I'm right behind...  \n",
       "3  \"And now the buffoon's date at the drive-in wi...  \n",
       "4  Upon a cross a nun will be hanged, she will be...  \n",
       "5  I held you tight, and we fell, life took a bre...  \n",
       "6  [Chorus:]  \\r\\nShe is cryin', she is cryin'.  ...  \n",
       "7  Mrs. Lennon, o' Mrs. Lennon,  \\r\\nChecking the...  \n",
       "8  Like it's suffering  \\r\\n  \\r\\nI have this fee...  \n",
       "9  I wake up fine and dandy but then by the time ...  "
      ]
     },
     "execution_count": 8,
     "metadata": {},
     "output_type": "execute_result"
    }
   ],
   "source": [
    "df.head(10)"
   ]
  },
  {
   "cell_type": "code",
   "execution_count": 9,
   "id": "744a3eba-7a23-438a-a61b-8ecdc2a0f934",
   "metadata": {},
   "outputs": [
    {
     "data": {
      "text/plain": [
       "\"Christmas toys all over the place  \\r\\nLittle Johnny wears a funny smile on his face  \\r\\nJohnny has a secret, and a secret he must share  \\r\\nHe wants to tell somebody, so he tells his Teddy Bear  \\r\\n  \\r\\nI saw Mommy kissing Santa Claus  \\r\\nUnderneath the mistletoe last night  \\r\\nWell, she didn't see me creep  \\r\\nDown the stairs to have a peek  \\r\\nShe though that I was tucked up in my bedroom fast asleep  \\r\\nThen I saw Mommy tickle Santa Claus  \\r\\nUnderneath his beard so snowy white  \\r\\nWhat a laugh it would have been  \\r\\nIf Daddy had walked in  \\r\\nAnd saw Mommy kissing Santa Claus last night  \\r\\n  \\r\\nI saw Mommy kissing Santa Claus  \\r\\nUnderneath the mistletoe last night  \\r\\nWell, she didn't see me creep  \\r\\nDown the stairs to have a peek  \\r\\nShe though that I was tucked up in my bedroom fast asleep  \\r\\nBut I know I saw Mommy tickle Santa Claus  \\r\\nUnderneath his beard so snowy white  \\r\\nWhat a laugh it would have been  \\r\\nIf Daddy had walked in  \\r\\nAnd saw Mommy kissing Santa Claus last night  \\r\\nAnd saw Mommy kissing Santa Claus last night (One more time!)  \\r\\nAnd saw Mommy kissing Santa Claus last night  \\r\\nOn the Lips!\\r\\n\\r\\n\""
      ]
     },
     "execution_count": 9,
     "metadata": {},
     "output_type": "execute_result"
    }
   ],
   "source": [
    "df['text'][0]"
   ]
  },
  {
   "cell_type": "code",
   "execution_count": null,
   "id": "6cea91c8-e51e-4fa0-ae67-7f1fbfd4bf4a",
   "metadata": {},
   "outputs": [],
   "source": []
  },
  {
   "cell_type": "code",
   "execution_count": 10,
   "id": "f3436b0f-a80e-4e5a-bdb7-ea2ed9761880",
   "metadata": {},
   "outputs": [
    {
     "data": {
      "text/plain": [
       "(5000, 3)"
      ]
     },
     "execution_count": 10,
     "metadata": {},
     "output_type": "execute_result"
    }
   ],
   "source": [
    "df.shape\n"
   ]
  },
  {
   "cell_type": "markdown",
   "id": "ff710ee9-cf88-4505-ae60-866867f4c7dd",
   "metadata": {},
   "source": [
    "Text cleaning/Text preprocessing"
   ]
  },
  {
   "cell_type": "code",
   "execution_count": 11,
   "id": "57ea23b4-2d89-4c62-841f-b854b231aad7",
   "metadata": {},
   "outputs": [],
   "source": [
    "df['text'] = df['text'].str.lower().replace(r'^\\w\\s', ' ').replace(r'\\n', ' ', regex = True)"
   ]
  },
  {
   "cell_type": "code",
   "execution_count": 12,
   "id": "acacac06-58cc-440e-b968-20f7139f02b4",
   "metadata": {},
   "outputs": [
    {
     "data": {
      "text/html": [
       "<div>\n",
       "<style scoped>\n",
       "    .dataframe tbody tr th:only-of-type {\n",
       "        vertical-align: middle;\n",
       "    }\n",
       "\n",
       "    .dataframe tbody tr th {\n",
       "        vertical-align: top;\n",
       "    }\n",
       "\n",
       "    .dataframe thead th {\n",
       "        text-align: right;\n",
       "    }\n",
       "</style>\n",
       "<table border=\"1\" class=\"dataframe\">\n",
       "  <thead>\n",
       "    <tr style=\"text-align: right;\">\n",
       "      <th></th>\n",
       "      <th>artist</th>\n",
       "      <th>song</th>\n",
       "      <th>text</th>\n",
       "    </tr>\n",
       "  </thead>\n",
       "  <tbody>\n",
       "    <tr>\n",
       "      <th>4995</th>\n",
       "      <td>Willie Nelson</td>\n",
       "      <td>Don't You Ever Get Tired (Of Hurting Me)</td>\n",
       "      <td>you make my eyes run over all the time and you...</td>\n",
       "    </tr>\n",
       "    <tr>\n",
       "      <th>4996</th>\n",
       "      <td>Johnny Cash</td>\n",
       "      <td>Highwayman</td>\n",
       "      <td>i was a highwayman.  \\r along the coach roads ...</td>\n",
       "    </tr>\n",
       "    <tr>\n",
       "      <th>4997</th>\n",
       "      <td>Red Hot Chili Peppers</td>\n",
       "      <td>Right On Time</td>\n",
       "      <td>one shot all i need  \\r i've got rhythm when i...</td>\n",
       "    </tr>\n",
       "    <tr>\n",
       "      <th>4998</th>\n",
       "      <td>Mary Black</td>\n",
       "      <td>Rares Hill</td>\n",
       "      <td>last year at lady mary's fair when i was in du...</td>\n",
       "    </tr>\n",
       "    <tr>\n",
       "      <th>4999</th>\n",
       "      <td>Perry Como</td>\n",
       "      <td>I Think I Love You</td>\n",
       "      <td>i'm sleepin' an' right in the middle of a good...</td>\n",
       "    </tr>\n",
       "  </tbody>\n",
       "</table>\n",
       "</div>"
      ],
      "text/plain": [
       "                     artist                                      song  \\\n",
       "4995          Willie Nelson  Don't You Ever Get Tired (Of Hurting Me)   \n",
       "4996            Johnny Cash                                Highwayman   \n",
       "4997  Red Hot Chili Peppers                             Right On Time   \n",
       "4998             Mary Black                                Rares Hill   \n",
       "4999             Perry Como                        I Think I Love You   \n",
       "\n",
       "                                                   text  \n",
       "4995  you make my eyes run over all the time and you...  \n",
       "4996  i was a highwayman.  \\r along the coach roads ...  \n",
       "4997  one shot all i need  \\r i've got rhythm when i...  \n",
       "4998  last year at lady mary's fair when i was in du...  \n",
       "4999  i'm sleepin' an' right in the middle of a good...  "
      ]
     },
     "execution_count": 12,
     "metadata": {},
     "output_type": "execute_result"
    }
   ],
   "source": [
    "df.tail(5)"
   ]
  },
  {
   "cell_type": "code",
   "execution_count": 13,
   "id": "7a037d64-4baa-402c-b010-bafacb38222c",
   "metadata": {},
   "outputs": [],
   "source": [
    "import nltk\n",
    "from nltk.stem.porter import PorterStemmer"
   ]
  },
  {
   "cell_type": "code",
   "execution_count": 14,
   "id": "dfdc1147-d8c7-4ef5-9f7a-8bc119be1183",
   "metadata": {},
   "outputs": [],
   "source": [
    "stemmer = PorterStemmer()"
   ]
  },
  {
   "cell_type": "code",
   "execution_count": 15,
   "id": "69bdafa2-e221-421e-8256-de5f834e605c",
   "metadata": {},
   "outputs": [],
   "source": [
    "def token(txt):\n",
    "    token = nltk.word_tokenize(txt)\n",
    "    a = [stemmer.stem(w) for w in  token]\n",
    "    return \" \".join(a)"
   ]
  },
  {
   "cell_type": "code",
   "execution_count": 16,
   "id": "ee0c67a3-0e2f-4761-b8ea-a10ca6359122",
   "metadata": {},
   "outputs": [
    {
     "data": {
      "text/plain": [
       "'you are beauti , beauti'"
      ]
     },
     "execution_count": 16,
     "metadata": {},
     "output_type": "execute_result"
    }
   ],
   "source": [
    "token(\"you are beautiful, beauty\")"
   ]
  },
  {
   "cell_type": "code",
   "execution_count": 17,
   "id": "ffac2af1-de37-49cd-bfc7-297139f60323",
   "metadata": {},
   "outputs": [
    {
     "data": {
      "text/plain": [
       "0       christma toy all over the place littl johnni w...\n",
       "1       eodideun joha uri oneulbam tteonabolla ? tteon...\n",
       "2       [ choru ] and even though i 'm right behind yo...\n",
       "3       `` and now the buffoon 's date at the drive-in...\n",
       "4       upon a cross a nun will be hang , she will be ...\n",
       "                              ...                        \n",
       "4995    you make my eye run over all the time and you ...\n",
       "4996    i wa a highwayman . along the coach road i did...\n",
       "4997    one shot all i need i 've got rhythm when i bl...\n",
       "4998    last year at ladi mari 's fair when i wa in du...\n",
       "4999    i 'm sleepin ' an ' right in the middl of a go...\n",
       "Name: text, Length: 5000, dtype: object"
      ]
     },
     "execution_count": 17,
     "metadata": {},
     "output_type": "execute_result"
    }
   ],
   "source": [
    "df['text'].apply(lambda x: token(x))"
   ]
  },
  {
   "cell_type": "code",
   "execution_count": 18,
   "id": "3becd49d-0998-4b2a-a44f-8265d9b04d4f",
   "metadata": {},
   "outputs": [],
   "source": [
    "from sklearn.feature_extraction.text import TfidfVectorizer\n",
    "from sklearn.metrics.pairwise import cosine_similarity"
   ]
  },
  {
   "cell_type": "code",
   "execution_count": 19,
   "id": "42a72873-4350-43cd-963a-ec918984d2a7",
   "metadata": {},
   "outputs": [],
   "source": [
    "tfid = TfidfVectorizer(analyzer='word', stop_words='english')"
   ]
  },
  {
   "cell_type": "code",
   "execution_count": 20,
   "id": "6c7e4110-6726-4199-be6a-dd36da447aa4",
   "metadata": {},
   "outputs": [],
   "source": [
    "matrix = tfid.fit_transform(df['text'])"
   ]
  },
  {
   "cell_type": "code",
   "execution_count": 21,
   "id": "624d8584-a433-43e9-9a0c-21b224b995ba",
   "metadata": {},
   "outputs": [],
   "source": [
    "similer = cosine_similarity(matrix)\n"
   ]
  },
  {
   "cell_type": "code",
   "execution_count": 22,
   "id": "765c5901-fc09-41ca-8274-ecf7df06140b",
   "metadata": {},
   "outputs": [
    {
     "data": {
      "text/plain": [
       "array([1.        , 0.        , 0.01107961, ..., 0.00618774, 0.0210853 ,\n",
       "       0.01543257])"
      ]
     },
     "execution_count": 22,
     "metadata": {},
     "output_type": "execute_result"
    }
   ],
   "source": [
    "similer[0]"
   ]
  },
  {
   "cell_type": "code",
   "execution_count": 23,
   "id": "fab5f7df-8144-452f-aee1-d643b537a5ee",
   "metadata": {},
   "outputs": [
    {
     "data": {
      "text/plain": [
       "409"
      ]
     },
     "execution_count": 23,
     "metadata": {},
     "output_type": "execute_result"
    }
   ],
   "source": [
    "df[df['song'] == 'I Love You'].index[0]"
   ]
  },
  {
   "cell_type": "markdown",
   "id": "e48b0fb8-bcc9-4052-96da-7fc79db7fbf4",
   "metadata": {},
   "source": [
    "Recommender function"
   ]
  },
  {
   "cell_type": "code",
   "execution_count": 24,
   "id": "632d44ed-3c9c-4753-a4c2-aef19c3cc953",
   "metadata": {},
   "outputs": [],
   "source": [
    "def recommender(song_name):\n",
    "    idx = df[df['song'] == song_name].index[0]\n",
    "    distance = sorted(list(enumerate(similer[idx])), reverse=True, key = lambda x:x[1])\n",
    "    song = []\n",
    "    for s_id in distance[1:21]:\n",
    "        song.append(df.iloc[s_id[0]].song)\n",
    "    return song"
   ]
  },
  {
   "cell_type": "code",
   "execution_count": 25,
   "id": "0ed16930-e1cc-4f54-b94a-0fad258f78ba",
   "metadata": {},
   "outputs": [
    {
     "data": {
      "text/plain": [
       "['Hold On',\n",
       " 'Heart Attack',\n",
       " 'Ride It On',\n",
       " 'What I Must Do',\n",
       " 'I Need To Know',\n",
       " \"I Can't Stop\",\n",
       " 'Like It This Way',\n",
       " \"If You're Not Gonna Love Me Right\",\n",
       " \"I Don't Know Why - With Lauren Bacall\",\n",
       " 'L-O-V-E',\n",
       " 'Bless The Wings',\n",
       " 'Under Attack',\n",
       " 'Love To Hate You',\n",
       " 'Wings Of Tomorrow',\n",
       " \"Don't Know Why\",\n",
       " 'Driving Home For Christmas',\n",
       " \"And I Am Telling You I'm Not Going Lyrics\",\n",
       " 'Close',\n",
       " \"I Don't Know\",\n",
       " 'How Can I Stop']"
      ]
     },
     "execution_count": 25,
     "metadata": {},
     "output_type": "execute_result"
    }
   ],
   "source": [
    "recommender(\"I Love You\")"
   ]
  },
  {
   "cell_type": "code",
   "execution_count": 26,
   "id": "0b5cda3f-779a-47d2-993c-916ca4e9f1a4",
   "metadata": {},
   "outputs": [],
   "source": [
    "import pickle"
   ]
  },
  {
   "cell_type": "code",
   "execution_count": 27,
   "id": "b5b7ec98-03ac-4520-9678-22866e308696",
   "metadata": {},
   "outputs": [],
   "source": [
    "pickle.dump(similer, open(\"similarity\", \"wb\"))"
   ]
  },
  {
   "cell_type": "code",
   "execution_count": 28,
   "id": "58818fc6-5978-40a0-b3f8-9dbae4624c5c",
   "metadata": {},
   "outputs": [],
   "source": [
    "pickle.dump(df, open(\"spotify\", \"wb\"))\n"
   ]
  },
  {
   "cell_type": "code",
   "execution_count": null,
   "id": "d143a762-8822-40d8-b95d-16bf97a295b5",
   "metadata": {},
   "outputs": [],
   "source": []
  }
 ],
 "metadata": {
  "kernelspec": {
   "display_name": "music",
   "language": "python",
   "name": "music"
  },
  "language_info": {
   "codemirror_mode": {
    "name": "ipython",
    "version": 3
   },
   "file_extension": ".py",
   "mimetype": "text/x-python",
   "name": "python",
   "nbconvert_exporter": "python",
   "pygments_lexer": "ipython3",
   "version": "3.12.2"
  }
 },
 "nbformat": 4,
 "nbformat_minor": 5
}
